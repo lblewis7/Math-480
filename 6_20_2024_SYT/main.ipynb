{
 "cells": [
  {
   "cell_type": "markdown",
   "metadata": {},
   "source": [
    "# Imports"
   ]
  },
  {
   "cell_type": "code",
   "execution_count": 53,
   "metadata": {},
   "outputs": [
    {
     "data": {
      "text/plain": [
       "<module 'SYT' from 'c:\\\\Users\\\\lewil\\\\Documents\\\\UW\\\\Math 480\\\\Math-480\\\\6_20_2024_SYT\\\\SYT.py'>"
      ]
     },
     "execution_count": 53,
     "metadata": {},
     "output_type": "execute_result"
    }
   ],
   "source": [
    "import importlib\n",
    "import SYT\n",
    "import time\n",
    "\n",
    "# NOTE: I still had trouble getting these imports to work. I will try to ask about this next class time.\n",
    "import numpy as np\n",
    "import matplotlib.pyplot as plt\n",
    "\n",
    "importlib.reload(SYT)"
   ]
  },
  {
   "cell_type": "markdown",
   "metadata": {},
   "source": [
    "## SYT Helper Functions.\n",
    "Implement the functions `is_valid_SYT` and `reshape_perm` then run this cell to test your helper functions. "
   ]
  },
  {
   "cell_type": "code",
   "execution_count": 54,
   "metadata": {},
   "outputs": [
    {
     "name": "stdout",
     "output_type": "stream",
     "text": [
      "True\n",
      "False\n",
      "((1, 2, 3), (4, 5), (6,))\n",
      "((1, 2, 3), (4, 5, 6))\n"
     ]
    }
   ],
   "source": [
    "print(SYT.is_valid_SYT(((1, 2, 3), (4, 5, 6), (7, 8, 9)))) # True\n",
    "print(SYT.is_valid_SYT(((1, 2, 3), (5, 4), (6,)))) # False\n",
    "\n",
    "print(SYT.reshape_perm((1, 2, 3, 4, 5, 6), (3, 2, 1))) # ((1, 2, 3), (4, 5), (6,))\n",
    "print(SYT.reshape_perm((1, 2, 3, 4, 5, 6), (3, 3))) # ((1, 2, 3), (4, 5, 6))"
   ]
  },
  {
   "cell_type": "markdown",
   "metadata": {},
   "source": [
    "# Generate all SYTs\n",
    "Implement `SYTs` and generate all valid SYTs for the following shapes:\n",
    "- (4,3,2,1)\n",
    "- (2,2)\n",
    "- (3,3)\n",
    "- (4,4)\n",
    "- (5,5)\n",
    "\n",
    "Save your SYTs in the `data` subfolder. For example, the SYTs of shape (4,3,2,1) are saved in `data/SYTs_4_3_2_1.txt`.\n",
    "\n",
    "What do you notice about SYTs of shape (n,n)?\n",
    "While generating SYTs with a shape of this form, it appears that there will be catalan(n) possible SYTs\n"
   ]
  },
  {
   "cell_type": "code",
   "execution_count": 55,
   "metadata": {},
   "outputs": [],
   "source": [
    "# Generate SYTs\n",
    "shapes = [(4,3,2,1), (2,2), (3,3), (4,4), (5,5)]\n",
    "\n",
    "for shape in shapes:\n",
    "\n",
    "    path_parts = [0, 0, 0]\n",
    "    path1_parts = [0] * len(shape)\n",
    "\n",
    "    path_parts[0] = f\"data/SYTs_\"\n",
    "    path_parts[1] = \"_\".join(str(x) for x in shape)\n",
    "    path_parts[2] = f\".txt\"\n",
    "    path = \"\".join(path_parts)\n",
    "\n",
    "    syts = SYT.SYTs(shape)\n",
    "    \n",
    "    with open(path, \"w\") as f:\n",
    "        for s in syts:\n",
    "            f.write(f\"{s}\\n\")"
   ]
  },
  {
   "cell_type": "markdown",
   "metadata": {},
   "source": [
    "# Generating Random SYTs\n",
    "Implement `random_SYT` and `random_SYT_2` and compare the efficacy on the shape (2,2,2).\n",
    "\n",
    "Print out how long it takes to generate 10000 samples using each function and compare the distributions to the uniform distribution.\n",
    "\n",
    "Plot the distributions using matplotlib and save them in the `figures` subfolder."
   ]
  },
  {
   "cell_type": "code",
   "execution_count": 56,
   "metadata": {},
   "outputs": [
    {
     "name": "stdout",
     "output_type": "stream",
     "text": [
      "Time taken by random_SYT:   4.1062 seconds\n",
      "Time taken by random_SYT_2: 0.0578 seconds\n"
     ]
    }
   ],
   "source": [
    "shape = (2,2,2)\n",
    "\n",
    "distribution = {syt: 0 for syt in SYT.SYTs(shape)}\n",
    "start_time = time.time()\n",
    "for i in range(10000):\n",
    "  # Test random_SYT()\n",
    "  t0 = time.time()\n",
    "  SYT.random_SYT(shape)\n",
    "  distribution.update({i: time.time() - t0})\n",
    "random_SYT_time = time.time() - start_time\n",
    "\n",
    "distribution2 = {syt: 0 for syt in SYT.SYTs(shape)}\n",
    "start_time = time.time()\n",
    "for i in range(10000):\n",
    "  # Test random_SYT_2()\n",
    "  t0 = time.time()\n",
    "  SYT.random_SYT_2(shape)\n",
    "  distribution2.update({i: time.time() - t0})\n",
    "random_SYT_2_time = time.time() - start_time\n",
    "\n",
    "# NOTE (for the below code): The instructions feel somewhat unclear, though the following is how the AI (and, for the most part, myself) interpreted them. \n",
    "# Also, again, I was unable to test this part due to import failures, and I did need to make minor edits, so I'm sorry if this code is broken.\n",
    "\n",
    "# Create a uniform distribution\n",
    "uniform_samples = np.random.uniform(0, 1, 10000)\n",
    "\n",
    "# Plot the random_SYT time distribution\n",
    "plt.figure(figsize=(10, 6))\n",
    "plt.hist(distribution, bins=20, alpha=0.5, label='Random SYT Distribution')\n",
    "plt.xlabel('Time Taken')\n",
    "plt.ylabel('Count')\n",
    "plt.title('Comparison of Distributions') # NOTE: I'm not sure what the difference is between this and the histogram label, so I've left this unchanged, sorry!\n",
    "plt.legend()\n",
    "plt.savefig('figures/random_SYT.png')\n",
    "\n",
    "# Plot the random_SYT_2 time distribution\n",
    "plt.figure(figsize=(10, 6))\n",
    "plt.hist(distribution2, bins=20, alpha=0.5, label='Random SYT 2 Distribution')\n",
    "plt.xlabel('Time Taken')\n",
    "plt.ylabel('Count')\n",
    "plt.title('Comparison of Distributions')\n",
    "plt.legend()\n",
    "plt.savefig('figures/random_SYT_2.png')\n",
    "\n",
    "# Plot the uniform distribution\n",
    "plt.figure(figsize=(10, 6))\n",
    "plt.hist(uniform_samples, bins=20, alpha=0.5, label='Uniform Distribution')\n",
    "plt.xlabel('Value')\n",
    "plt.ylabel('Count')\n",
    "plt.title('Comparison of Distributions')\n",
    "plt.legend()\n",
    "plt.savefig('figures/uniform.png')\n",
    "\n",
    "print(f\"Time taken by random_SYT:   {random_SYT_time:.4f} seconds\")\n",
    "print(f\"Time taken by random_SYT_2: {random_SYT_2_time:.4f} seconds\")"
   ]
  }
 ],
 "metadata": {
  "kernelspec": {
   "display_name": "Python 3",
   "language": "python",
   "name": "python3"
  },
  "language_info": {
   "codemirror_mode": {
    "name": "ipython",
    "version": 3
   },
   "file_extension": ".py",
   "mimetype": "text/x-python",
   "name": "python",
   "nbconvert_exporter": "python",
   "pygments_lexer": "ipython3",
   "version": "3.12.4"
  }
 },
 "nbformat": 4,
 "nbformat_minor": 2
}
