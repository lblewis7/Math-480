{
 "cells": [
  {
   "cell_type": "markdown",
   "metadata": {},
   "source": [
    "# Generate Data\n",
    "This is a simple notebook used for generating all the data we will be training our models on. For $1 \\le n \\le 10$, generate CSV data files. The header line should be `parenthesization,valid` and each subsequent row is a parenthesization followed by either `0` or `1`, where `0` denotes invalid and `1` denotes valid.\n",
    "\n",
    "The functions `parenthensizations.valid()` and `parenthesizations.invalid()` have been implemented for you, but make sure to balance the two classes so they have a equal number of data points."
   ]
  },
  {
   "cell_type": "code",
   "execution_count": 3,
   "metadata": {},
   "outputs": [
    {
     "name": "stdout",
     "output_type": "stream",
     "text": [
      "Generated data for n = 1\n",
      "Generated data for n = 2\n",
      "Generated data for n = 3\n",
      "Generated data for n = 4\n",
      "Generated data for n = 5\n",
      "Generated data for n = 6\n",
      "Generated data for n = 7\n",
      "Generated data for n = 8\n",
      "Generated data for n = 9\n"
     ]
    }
   ],
   "source": [
    "import importlib\n",
    "import random\n",
    "parenthesizations = importlib.import_module('parenthesizations')\n",
    "\n",
    "for n in range(1, 10):\n",
    "    with open(f\"data/parenthesizations_{n}.csv\", \"w\") as f:\n",
    "        f.write(\"parenthesization,valid\\n\")\n",
    "\n",
    "        valid_parenthesizations = parenthesizations.valid(n)\n",
    "\n",
    "        valid   = random.sample(parenthesizations.valid(n),           min(1000, len(valid_parenthesizations)))\n",
    "        invalid = random.sample(sorted(parenthesizations.invalid(n)), min(1000, len(valid_parenthesizations)))\n",
    "\n",
    "        for i in valid:\n",
    "            f.write(f\"{i},1\\n\")\n",
    "        for i in invalid:\n",
    "            f.write(f\"{i},0\\n\")          \n",
    "        \n",
    "        print(f\"Generated data for n = {n}\")"
   ]
  }
 ],
 "metadata": {
  "kernelspec": {
   "display_name": "Python 3",
   "language": "python",
   "name": "python3"
  },
  "language_info": {
   "codemirror_mode": {
    "name": "ipython",
    "version": 3
   },
   "file_extension": ".py",
   "mimetype": "text/x-python",
   "name": "python",
   "nbconvert_exporter": "python",
   "pygments_lexer": "ipython3",
   "version": "3.12.4"
  }
 },
 "nbformat": 4,
 "nbformat_minor": 2
}
