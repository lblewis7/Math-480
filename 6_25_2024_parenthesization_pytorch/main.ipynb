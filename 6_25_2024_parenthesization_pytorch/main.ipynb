{
 "cells": [
  {
   "cell_type": "markdown",
   "metadata": {},
   "source": [
    "# Imports"
   ]
  },
  {
   "cell_type": "code",
   "execution_count": 25,
   "metadata": {},
   "outputs": [],
   "source": [
    "from torch.utils.data import DataLoader, random_split\n",
    "import torch\n",
    "from data import ParenthesizationDataset, ParenthesizationModel\n",
    "from train import train_one_epoch, evaluate_model\n",
    "import matplotlib.pyplot as plt\n",
    "from torch.utils.data import Dataset"
   ]
  },
  {
   "cell_type": "markdown",
   "metadata": {},
   "source": [
    "# Initialization\n",
    "Set the parameters here for training and initialize the train/test datasets, data loaders, model, loss function and optimizer."
   ]
  },
  {
   "cell_type": "code",
   "execution_count": 26,
   "metadata": {},
   "outputs": [],
   "source": [
    "n = 7\n",
    "epochs = 50\n",
    "train_split, test_split = 0.8, 0.2\n",
    "learning_rate = 0.001\n",
    "momentum = 0.9\n",
    "batch_size = 32\n",
    "\n",
    "# TODO: Create the datasets, model, loss function, optimizer, and data loader.\n",
    "full_set = ParenthesizationDataset(n)\n",
    "training_dataset, test_dataset = random_split(full_set, [int(train_split * len(full_set.data)), len(full_set.data) - int(train_split * len(full_set.data))])\n",
    "\"\"\"training_dataset, test_dataset = ParenthesizationDataset(n), ParenthesizationDataset(n)\n",
    "training_dataset.data, test_dataset.data, = [], []\n",
    "for i in range(len(training_set.dataset)):\n",
    "    training_dataset.data.append(training_set.dataset.__getitem__(i)[0])\n",
    "for i in range(len(test_set.dataset)):\n",
    "    test_dataset.data.append(test_set.dataset.__getitem__(i)[0])\"\"\"\n",
    "#training_dataset = ParenthesizationDataset(n)\n",
    "#test_dataset = ParenthesizationDataset(n)\n",
    "model = ParenthesizationModel(n)\n",
    "loss_fn = torch.nn.CrossEntropyLoss()\n",
    "optimizer = torch.optim.SGD(model.parameters(), lr=learning_rate, momentum=momentum)\n",
    "training_loader = DataLoader(training_dataset, batch_size=batch_size, shuffle=True)\n",
    "test_loader = DataLoader(test_dataset, batch_size=batch_size, shuffle=False)"
   ]
  },
  {
   "cell_type": "markdown",
   "metadata": {},
   "source": [
    "# Training the model\n",
    "* Call `train_one_epoch` repeatedly to train the model once over the entire training dataset.\n",
    "* Print out the epoch number and loss after each training call to verify that the loss is going down.\n",
    "* Record the loss values in a list so that it can be plotted in the cell below.\n",
    "* After training, call `evaluate_model` to get the confusion matrix.\n",
    "* Save the model as `models/linear_model_{n}.pt`."
   ]
  },
  {
   "cell_type": "code",
   "execution_count": 27,
   "metadata": {},
   "outputs": [
    {
     "name": "stdout",
     "output_type": "stream",
     "text": [
      "Epoch 1/50, Training Loss: 0.6308\n",
      "Epoch 2/50, Training Loss: 0.5987\n",
      "Epoch 3/50, Training Loss: 0.5674\n",
      "Epoch 4/50, Training Loss: 0.5435\n",
      "Epoch 5/50, Training Loss: 0.5242\n",
      "Epoch 6/50, Training Loss: 0.5067\n",
      "Epoch 7/50, Training Loss: 0.4906\n",
      "Epoch 8/50, Training Loss: 0.4744\n",
      "Epoch 9/50, Training Loss: 0.4625\n",
      "Epoch 10/50, Training Loss: 0.4482\n",
      "Epoch 11/50, Training Loss: 0.4359\n",
      "Epoch 12/50, Training Loss: 0.4261\n",
      "Epoch 13/50, Training Loss: 0.4171\n",
      "Epoch 14/50, Training Loss: 0.4049\n",
      "Epoch 15/50, Training Loss: 0.3981\n",
      "Epoch 16/50, Training Loss: 0.3899\n",
      "Epoch 17/50, Training Loss: 0.3842\n",
      "Epoch 18/50, Training Loss: 0.3807\n",
      "Epoch 19/50, Training Loss: 0.3756\n",
      "Epoch 20/50, Training Loss: 0.3662\n",
      "Epoch 21/50, Training Loss: 0.3610\n",
      "Epoch 22/50, Training Loss: 0.3563\n",
      "Epoch 23/50, Training Loss: 0.3527\n",
      "Epoch 24/50, Training Loss: 0.3469\n",
      "Epoch 25/50, Training Loss: 0.3460\n",
      "Epoch 26/50, Training Loss: 0.3388\n",
      "Epoch 27/50, Training Loss: 0.3347\n",
      "Epoch 28/50, Training Loss: 0.3308\n",
      "Epoch 29/50, Training Loss: 0.3272\n",
      "Epoch 30/50, Training Loss: 0.3267\n",
      "Epoch 31/50, Training Loss: 0.3231\n",
      "Epoch 32/50, Training Loss: 0.3173\n",
      "Epoch 33/50, Training Loss: 0.3170\n",
      "Epoch 34/50, Training Loss: 0.3125\n",
      "Epoch 35/50, Training Loss: 0.3093\n",
      "Epoch 36/50, Training Loss: 0.3069\n",
      "Epoch 37/50, Training Loss: 0.3045\n",
      "Epoch 38/50, Training Loss: 0.3014\n",
      "Epoch 39/50, Training Loss: 0.3041\n",
      "Epoch 40/50, Training Loss: 0.2997\n",
      "Epoch 41/50, Training Loss: 0.2954\n",
      "Epoch 42/50, Training Loss: 0.2965\n",
      "Epoch 43/50, Training Loss: 0.2922\n",
      "Epoch 44/50, Training Loss: 0.2908\n",
      "Epoch 45/50, Training Loss: 0.2931\n",
      "Epoch 46/50, Training Loss: 0.2871\n",
      "Epoch 47/50, Training Loss: 0.2891\n",
      "Epoch 48/50, Training Loss: 0.2833\n",
      "Epoch 49/50, Training Loss: 0.2858\n",
      "Epoch 50/50, Training Loss: 0.2803\n"
     ]
    }
   ],
   "source": [
    "loss = []\n",
    "for epoch in range(epochs):\n",
    "    train_loss = train_one_epoch(training_loader, model, loss_fn, optimizer)\n",
    "    print(f\"Epoch {epoch + 1}/{epochs}, Training Loss: {train_loss:.4f}\")\n",
    "    val_loss = evaluate_model(model, training_loader)\n",
    "    loss.append([train_loss, val_loss])\n",
    "\n",
    "confusion_matrix = evaluate_model(model, test_loader)\n",
    "\n",
    "torch.save(model.state_dict(), f\"models/linear_model_{n}.pt\")\n",
    "\n"
   ]
  },
  {
   "cell_type": "markdown",
   "metadata": {},
   "source": [
    "# Plot the loss curve\n",
    "Plot the loss curve with appropriate figure title and axis labels. Save the resulting figure in `figures/loss_curve_{n}.png`."
   ]
  },
  {
   "cell_type": "code",
   "execution_count": 28,
   "metadata": {},
   "outputs": [
    {
     "name": "stderr",
     "output_type": "stream",
     "text": [
      "C:\\Users\\lewil\\AppData\\Local\\Temp\\ipykernel_33020\\1339928877.py:7: UserWarning: No artists with labels found to put in legend.  Note that artists whose label start with an underscore are ignored when legend() is called with no argument.\n",
      "  plt.legend()\n"
     ]
    },
    {
     "data": {
      "image/png": "[encoded data removed]",
      "text/plain": [
       "<Figure size 640x480 with 1 Axes>"
      ]
     },
     "metadata": {},
     "output_type": "display_data"
    }
   ],
   "source": [
    "# plot loss vs epoch\n",
    "lossvals = [loss[i][0] for i in range(epochs)]\n",
    "plt.plot([i for i in range(epochs)], lossvals)\n",
    "plt.xlabel(\"Epoch\")\n",
    "plt.ylabel(\"Loss\")\n",
    "plt.title('Comparison of Distributions')\n",
    "plt.legend()\n",
    "plt.savefig(f'figures/loss_curve_{n}.png')"
   ]
  },
  {
   "cell_type": "markdown",
   "metadata": {},
   "source": [
    "# Analyze accuracy using the confusion matrix\n",
    "- Print out the accuracy within each of the prediction classes.\n",
    "- Print out the size of each prediction class.\n",
    "- Print out the overall accuracy."
   ]
  },
  {
   "cell_type": "code",
   "execution_count": 29,
   "metadata": {},
   "outputs": [
    {
     "name": "stdout",
     "output_type": "stream",
     "text": [
      "Accuracy of valid parenthesization predictions:  1.0\n",
      "Accuracy of invalid parenthesization predictions:  0.8148148148148148\n",
      "Predicted number of valid parenthesizations:  64\n",
      "Predicted number of invalid parenthesizations:  108\n",
      "Overall accuracy:  0.8837209302325582\n"
     ]
    }
   ],
   "source": [
    "print(\"Accuracy of valid parenthesization predictions: \", confusion_matrix[0][0] / (confusion_matrix[0][0] + confusion_matrix[1][0]))\n",
    "print(\"Accuracy of invalid parenthesization predictions: \", confusion_matrix[1][1] / (confusion_matrix[1][1] + confusion_matrix[0][1]))\n",
    "print(\"Predicted number of valid parenthesizations: \", confusion_matrix[0][0] + confusion_matrix[1][0])\n",
    "print(\"Predicted number of invalid parenthesizations: \", confusion_matrix[0][1] + confusion_matrix[1][1])\n",
    "print(\"Overall accuracy: \", (confusion_matrix[0][0] + confusion_matrix[1][1]) / (confusion_matrix[0][0] + confusion_matrix[1][0] + confusion_matrix[0][1] + confusion_matrix[1][1]))"
   ]
  },
  {
   "cell_type": "markdown",
   "metadata": {},
   "source": [
    "# Plot the model weights\n",
    "Can you interpret what the model is doing? Plot the model weights using `plt.imshow()` to get a heatmap. Choose a colormap from https://matplotlib.org/stable/users/explain/colors/colormaps.html that you prefer. I default to the `bwr` colormap where negative values are blue, positive value are red, and values close to zero are white."
   ]
  },
  {
   "cell_type": "code",
   "execution_count": 30,
   "metadata": {},
   "outputs": [
    {
     "data": {
      "text/plain": [
       "<matplotlib.image.AxesImage at 0x299d779eb70>"
      ]
     },
     "execution_count": 30,
     "metadata": {},
     "output_type": "execute_result"
    },
    {
     "data": {
      "image/png": "[encoded data removed]",
      "text/plain": [
       "<Figure size 640x480 with 1 Axes>"
      ]
     },
     "metadata": {},
     "output_type": "display_data"
    }
   ],
   "source": [
    "plt.imshow(model.fc.weight.detach().numpy(), cmap='bwr') # TODO"
   ]
  },
  {
   "cell_type": "markdown",
   "metadata": {},
   "source": [
    "# \"Translate\" the model into code.\n",
    "Implement `simple_evaluate` which condenses the model's \"logic\" into a single if-else statement. Run this evaluation function over the test set to produce a new confusion matrix and see how it performs compared to the model you train."
   ]
  },
  {
   "cell_type": "code",
   "execution_count": 31,
   "metadata": {},
   "outputs": [
    {
     "name": "stdout",
     "output_type": "stream",
     "text": [
      "Accuracy of valid parenthesization predictions:  1.0\n",
      "Accuracy of invalid parenthesization predictions:  0.8\n",
      "Predicted number of valid parenthesizations:  62\n",
      "Predicted number of invalid parenthesizations:  110\n",
      "Overall accuracy:  0.872093023255814\n"
     ]
    }
   ],
   "source": [
    "# Try to condense the linear model down into a single if-else statement. \n",
    "def simple_evaluate(input):\n",
    "    # TODO - if closes at the start or opens at the end (use negative  indexes of -1 and -2), return invalid. else, return valid\n",
    "    simple_confusion_matrix = [[0, 0], [0, 0]]\n",
    "    for str in input:\n",
    "        for i in range(len(str[0])):\n",
    "            if str[0][i][0] == 1 and str[0][i][1] == 0 and str[0][i][-1] == 1 and str[0][i][-2] == 0:\n",
    "                simple_confusion_matrix[str[1][i]][1] += 1\n",
    "            else:\n",
    "                simple_confusion_matrix[str[1][i]][0] += 1\n",
    "\n",
    "    return simple_confusion_matrix\n",
    "\n",
    "confusion_matrix = simple_evaluate(test_loader)\n",
    "\n",
    "print(\"Accuracy of valid parenthesization predictions: \", confusion_matrix[0][0] / (confusion_matrix[0][0] + confusion_matrix[1][0]))\n",
    "print(\"Accuracy of invalid parenthesization predictions: \", confusion_matrix[1][1] / (confusion_matrix[1][1] + confusion_matrix[0][1]))\n",
    "print(\"Predicted number of valid parenthesizations: \", confusion_matrix[0][0] + confusion_matrix[1][0])\n",
    "print(\"Predicted number of invalid parenthesizations: \", confusion_matrix[0][1] + confusion_matrix[1][1])\n",
    "print(\"Overall accuracy: \", (confusion_matrix[0][0] + confusion_matrix[1][1]) / (confusion_matrix[0][0] + confusion_matrix[1][0] + confusion_matrix[0][1] + confusion_matrix[1][1]))\n"
   ]
  }
 ],
 "metadata": {
  "kernelspec": {
   "display_name": "Python 3",
   "language": "python",
   "name": "python3"
  },
  "language_info": {
   "codemirror_mode": {
    "name": "ipython",
    "version": 3
   },
   "file_extension": ".py",
   "mimetype": "text/x-python",
   "name": "python",
   "nbconvert_exporter": "python",
   "pygments_lexer": "ipython3",
   "version": "3.12.4"
  }
 },
 "nbformat": 4,
 "nbformat_minor": 2
}
