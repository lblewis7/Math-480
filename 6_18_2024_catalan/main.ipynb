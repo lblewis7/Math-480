{
 "cells": [
  {
   "cell_type": "markdown",
   "metadata": {},
   "source": [
    "## Imports\n",
    "The files you need for this notebook are imported in the cell below."
   ]
  },
  {
   "cell_type": "code",
   "execution_count": 11,
   "metadata": {},
   "outputs": [],
   "source": [
    "import catalan\n",
    "import os\n",
    "import time\n",
    "import matplotlib.pyplot as plt # I had some issues with matplotlib so the plots were not created, though this code should still work.\n",
    "dirname = os.path.dirname(\"./\")"
   ]
  },
  {
   "cell_type": "markdown",
   "metadata": {},
   "source": [
    "## Generate Parenthesizations\n",
    "\n",
    "Generate all possible parenthesizations of length $n$ for $1 \\le n \\le 10$. Files should be outputted to `data/catalan_parenthesizations_n.txt` and a plot of the time used to generate each data file should go in `figures/catalan_parenthesizations.png`."
   ]
  },
  {
   "cell_type": "code",
   "execution_count": 12,
   "metadata": {},
   "outputs": [
    {
     "data": {
      "text/plain": [
       "'\\n# Create a plot\\nplt.plot(list(range(1, 11)), times, marker=\"o\")\\nplt.xlabel(\"n\")\\nplt.ylabel(\"Time (seconds)\")\\nplt.title(\"Time to Generate Parenthesizations\")\\nplt.savefig(\"catalan_parenthesizations.png\")\\nplt.close()'"
      ]
     },
     "execution_count": 12,
     "metadata": {},
     "output_type": "execute_result"
    }
   ],
   "source": [
    "times = []\n",
    "\n",
    "for n in range(1, 11):\n",
    "  \"\"\"\n",
    "  #file1 = open(dirname + \"data/catalan_parenthesizations_\" + str(n) + \".txt\",\"w\")\n",
    "  t0 = time.perf_counter()\n",
    "  #file1.write(str(catalan.parenthesizations(n)))\n",
    "  catalan.parenthesizations(n)\n",
    "  print(time.perf_counter() - t0)\n",
    "  \"\"\"\n",
    "\n",
    "  start_time = time.time()\n",
    "  parenthesizations = catalan.parenthesizations(n)\n",
    "  end_time = time.time()\n",
    "  times.append(end_time - start_time)\n",
    "        \n",
    "  # Write parenthesizations to a file\n",
    "  with open(f\"data/catalan_parenthesizations_{n}.txt\", \"w\") as f: # fix directory\n",
    "    for p in parenthesizations:\n",
    "      f.write(f\"{p}\\n\")\n",
    "\n",
    "# Create a plot\n",
    "plt.plot(list(range(1, 11)), times, marker=\"o\")\n",
    "plt.xlabel(\"n\")\n",
    "plt.ylabel(\"Time (seconds)\")\n",
    "plt.title(\"Time to Generate Parenthesizations\")\n",
    "plt.savefig(\"catalan_parenthesizations.png\")\n",
    "plt.close()"
   ]
  },
  {
   "cell_type": "markdown",
   "metadata": {},
   "source": [
    "## Generate Product Orders\n",
    "\n",
    "Generate all possible product orders of $n$ elements for $2 \\le n \\le 11$. Files should be outputted to `data/catalan_product_orders_n.txt` and a plot of the time used to generate each data file should go in `figures/catalan_product_orders.png`."
   ]
  },
  {
   "cell_type": "code",
   "execution_count": 13,
   "metadata": {},
   "outputs": [
    {
     "data": {
      "text/plain": [
       "'\\n# Create a plot\\nplt.plot(list(range(2, 12)), times, marker=\"o\")\\nplt.xlabel(\"n\")\\nplt.ylabel(\"Time (seconds)\")\\nplt.title(\"Time to Generate Product Orders\")\\nplt.savefig(\"catalan_product_orders.png\")\\nplt.close()'"
      ]
     },
     "execution_count": 13,
     "metadata": {},
     "output_type": "execute_result"
    }
   ],
   "source": [
    "for n in range(2, 12):\n",
    "  \"\"\"\n",
    "  t0 = time.perf_counter()\n",
    "  catalan.product_orders(n)\n",
    "  print(time.perf_counter() - t0)\n",
    "  \"\"\"\n",
    "\n",
    "  start_time = time.time()\n",
    "  product_orders = catalan.product_orders(n)\n",
    "  end_time = time.time()\n",
    "  times.append(end_time - start_time)\n",
    "        \n",
    "  # Write parenthesizations to a file\n",
    "  with open(f\"data/catalan_product_orders_{n}.txt\", \"w\") as f: # fix directory\n",
    "    for p in product_orders:\n",
    "      f.write(f\"{p}\\n\")\n",
    "\n",
    "# Create a plot\n",
    "plt.plot(list(range(2, 12)), times, marker=\"o\")\n",
    "plt.xlabel(\"n\")\n",
    "plt.ylabel(\"Time (seconds)\")\n",
    "plt.title(\"Time to Generate Product Orders\")\n",
    "plt.savefig(\"catalan_product_orders.png\")\n",
    "plt.close()"
   ]
  },
  {
   "cell_type": "markdown",
   "metadata": {},
   "source": [
    "## Generate 231 Avoiding Permutations\n",
    "\n",
    "Generate all possible 231 avoiding permutations on $n$ elements for $1 \\le n \\le 10$. Files should be outputted to `data/catalan_permutations_n.txt` and a plot of the time used to generate each data file should go in `figures/catalan_permutations.png`."
   ]
  },
  {
   "cell_type": "code",
   "execution_count": 14,
   "metadata": {},
   "outputs": [
    {
     "data": {
      "text/plain": [
       "'\\n# Create a plot\\nplt.plot(list(range(1, 11)), times, marker=\"o\")\\nplt.xlabel(\"n\")\\nplt.ylabel(\"Time (seconds)\")\\nplt.title(\"Time to Generate Permutations\")\\nplt.savefig(\"catalan_permutations.png\")\\nplt.close()'"
      ]
     },
     "execution_count": 14,
     "metadata": {},
     "output_type": "execute_result"
    }
   ],
   "source": [
    "for n in range(1, 11): # should be range(1, 11)\n",
    "  \"\"\"\n",
    "  t0 = time.perf_counter()\n",
    "  catalan.permutations_avoiding_231(n)\n",
    "  print(time.perf_counter() - t0)\n",
    "  \"\"\"\n",
    "\n",
    "  start_time = time.time()\n",
    "  permutations = catalan.permutations_avoiding_231(n)\n",
    "  end_time = time.time()\n",
    "  times.append(end_time - start_time)\n",
    "        \n",
    "  # Write parenthesizations to a file\n",
    "  with open(f\"data/catalan_permutations_{n}.txt\", \"w\") as f: # fix directory\n",
    "    for p in permutations:\n",
    "      f.write(f\"{p}\\n\")\n",
    "\n",
    "# Create a plot\n",
    "plt.plot(list(range(1, 11)), times, marker=\"o\")\n",
    "plt.xlabel(\"n\")\n",
    "plt.ylabel(\"Time (seconds)\")\n",
    "plt.title(\"Time to Generate Permutations\")\n",
    "plt.savefig(\"catalan_permutations.png\")\n",
    "plt.close()"
   ]
  },
  {
   "cell_type": "markdown",
   "metadata": {},
   "source": [
    "## Generate Triangulations\n",
    "\n",
    "Generate all possible triangulations on an $n$-sided polygon for $3 \\le n \\le 12$. Files should be outputted to `data/catalan_triangulations_n.txt` and a plot of the time used to generate each data file should go in `figures/catalan_triangulations.png`."
   ]
  },
  {
   "cell_type": "code",
   "execution_count": 15,
   "metadata": {},
   "outputs": [],
   "source": [
    "for n in range(3, 13): # should be range(3, 13)\n",
    "  \"\"\"\n",
    "  t0 = time.perf_counter()\n",
    "  catalan.triangulations(n)\n",
    "  print(time.perf_counter() - t0)\n",
    "  \"\"\"\n",
    "\n",
    "  start_time = time.time()\n",
    "  triangulations = catalan.triangulations(n)\n",
    "  end_time = time.time()\n",
    "  times.append(end_time - start_time)\n",
    "        \n",
    "  # Write parenthesizations to a file\n",
    "  with open(f\"data/catalan_triangulations_{n}.txt\", \"w\") as f: # fix directory\n",
    "    for t in triangulations:\n",
    "      f.write(f\"{t}\\n\")\n",
    "\n",
    "# Create a plot\n",
    "plt.plot(list(range(3, 13)), times, marker=\"o\")\n",
    "plt.xlabel(\"n\")\n",
    "plt.ylabel(\"Time (seconds)\")\n",
    "plt.title(\"Time to Generate Triangulations\")\n",
    "plt.savefig(\"catalan_triangulations.png\")\n",
    "plt.close()"
   ]
  }
 ],
 "metadata": {
  "kernelspec": {
   "display_name": "Python 3",
   "language": "python",
   "name": "python3"
  },
  "language_info": {
   "codemirror_mode": {
    "name": "ipython",
    "version": 3
   },
   "file_extension": ".py",
   "mimetype": "text/x-python",
   "name": "python",
   "nbconvert_exporter": "python",
   "pygments_lexer": "ipython3",
   "version": "3.12.4"
  }
 },
 "nbformat": 4,
 "nbformat_minor": 2
}
